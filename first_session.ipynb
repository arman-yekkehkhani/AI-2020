{
 "cells": [
  {
   "cell_type": "markdown",
   "metadata": {},
   "source": [
    "# How to Install Python"
   ]
  },
  {
   "cell_type": "markdown",
   "metadata": {},
   "source": [
    "Go to page: https://www.python.org/. Download the installer, and install it :)\n",
    "\n",
    "Supported platforms:\n",
    "\n",
    "* Windows\n",
    "* Macos\n",
    "* Linux\n"
   ]
  },
  {
   "cell_type": "markdown",
   "metadata": {},
   "source": [
    "# Which IDE should I use?"
   ]
  },
  {
   "cell_type": "markdown",
   "metadata": {},
   "source": [
    "There are serveral options:\n",
    "* Jupyter Lab or Jupyter Notebook (Recommended)\n",
    "* Visual Studio Code (VSC)\n",
    "* Pycharm\n",
    "* IDLE (definitely not recommended!)"
   ]
  },
  {
   "cell_type": "markdown",
   "metadata": {},
   "source": [
    "# How to install Jupyeter Lab\n",
    "There are two ways:\n",
    "1. Install Jupyter Lab using conda or pip\n",
    "\n",
    "    ref 1: https://jupyterlab.readthedocs.io/en/stable/getting_started/installation.html\n",
    "\n",
    "    ref 2:https://pypi.org/project/jupyterlab/\n",
    "\n",
    "\n",
    "2. Install anaconda from official site\n",
    "    \n",
    "    ref : https://www.anaconda.com/"
   ]
  },
  {
   "cell_type": "markdown",
   "metadata": {},
   "source": [
    "# Let's write some code!"
   ]
  },
  {
   "cell_type": "markdown",
   "metadata": {},
   "source": [
    "### 1. Types"
   ]
  },
  {
   "cell_type": "code",
   "execution_count": 1,
   "metadata": {},
   "outputs": [
    {
     "name": "stdout",
     "output_type": "stream",
     "text": [
      "a = 2\n",
      "2 <class 'int'>\n"
     ]
    }
   ],
   "source": [
    "# int \n",
    "a = 2\n",
    "print('a =', a)\n",
    "\n",
    "a_2 = int('2')\n",
    "print(a, type(a_2))"
   ]
  },
  {
   "cell_type": "code",
   "execution_count": 2,
   "metadata": {},
   "outputs": [
    {
     "name": "stdout",
     "output_type": "stream",
     "text": [
      "type of b is <class 'float'>, and type of c is <class 'float'>\n"
     ]
    }
   ],
   "source": [
    "# float\n",
    "b = float(2.0)\n",
    "c = 2.0\n",
    "print(f\"type of b is {type(b)}, and type of c is {type(c)}\")"
   ]
  },
  {
   "cell_type": "code",
   "execution_count": 3,
   "metadata": {},
   "outputs": [
    {
     "name": "stdout",
     "output_type": "stream",
     "text": [
      "(1+2j)\n",
      "type of d is <class 'complex'>\n"
     ]
    }
   ],
   "source": [
    "# complex \n",
    "d = 1 + 2j\n",
    "print(d)\n",
    "print(\"type of d is %s\" % type(d))"
   ]
  },
  {
   "cell_type": "code",
   "execution_count": 4,
   "metadata": {},
   "outputs": [
    {
     "name": "stdout",
     "output_type": "stream",
     "text": [
      "name = Ali <class 'str'>\n"
     ]
    }
   ],
   "source": [
    "# string\n",
    "name = 'Ali'\n",
    "print('name =', name, type(name))"
   ]
  },
  {
   "cell_type": "code",
   "execution_count": 5,
   "metadata": {},
   "outputs": [
    {
     "name": "stdout",
     "output_type": "stream",
     "text": [
      "Ahmad <class 'str'>\n"
     ]
    }
   ],
   "source": [
    "friend = \"Ahmad\"\n",
    "print(friend, type(friend))"
   ]
  },
  {
   "cell_type": "code",
   "execution_count": 6,
   "metadata": {},
   "outputs": [
    {
     "name": "stdout",
     "output_type": "stream",
     "text": [
      "To be or not to be\n",
      "Hamlet, Act 3, Scene 1 <class 'str'>\n"
     ]
    }
   ],
   "source": [
    "mulitLine = \"\"\"To be or not to be\n",
    "Hamlet, Act 3, Scene 1\"\"\"\n",
    "\n",
    "print(mulitLine, type(mulitLine))"
   ]
  },
  {
   "cell_type": "code",
   "execution_count": 7,
   "metadata": {},
   "outputs": [
    {
     "name": "stdout",
     "output_type": "stream",
     "text": [
      "Ana karenina,\n",
      "By Leo Tolstoy <class 'str'>\n"
     ]
    }
   ],
   "source": [
    "multiLine2 = '''Ana karenina,\n",
    "By Leo Tolstoy'''\n",
    "print(multiLine2, type(multiLine2))"
   ]
  },
  {
   "cell_type": "code",
   "execution_count": 27,
   "metadata": {},
   "outputs": [
    {
     "name": "stdout",
     "output_type": "stream",
     "text": [
      "My name is Arman\n",
      "My age is 24\n",
      "36\n"
     ]
    }
   ],
   "source": [
    "# string concat\n",
    "name = 'Arman'\n",
    "print('My name is ' + name)\n",
    "\n",
    "print('My age is ' + str(24))\n",
    "\n",
    "print('_'.join(['1', '2', '3', '4']))\n",
    "\n",
    "# int + string\n",
    "print(12 + int('24'))"
   ]
  },
  {
   "cell_type": "code",
   "execution_count": 9,
   "metadata": {},
   "outputs": [
    {
     "name": "stdout",
     "output_type": "stream",
     "text": [
      "grocery list = ['orange', 'potato', 'tomato']\n"
     ]
    }
   ],
   "source": [
    "# list:  collection, ordered, changeable, accept duplicates\n",
    "grocery_list = ['orange',\n",
    "                'potato',\n",
    "                'tomato']\n",
    "print('grocery list =', grocery_list)"
   ]
  },
  {
   "cell_type": "code",
   "execution_count": 11,
   "metadata": {},
   "outputs": [
    {
     "name": "stdout",
     "output_type": "stream",
     "text": [
      "[1, 'Ali', [1, 2, 3]]\n",
      "3\n",
      "1\n",
      "[1, 'Ali']\n",
      "[1, 2, 3]\n",
      "['Ali']\n",
      "[1, 'Ali', [1, 2, 3], 'hello']\n",
      "[1, 'salam', 'Ali', [1, 2, 3], 'hello']\n",
      "[1, 'salam', 'Ali', [1, 2, 3], 'hello', 4, 5]\n",
      "[1, 'salam', [1, 2, 3], 'hello', 4, 5]\n",
      "[1, 'salam', 'hello', 4, 5]\n",
      "[1, 'salam', 'hello', 4]\n",
      "weird_list:  []\n"
     ]
    }
   ],
   "source": [
    "weird_list = [1, 'Ali', [1, 2, 3]]\n",
    "print(weird_list)\n",
    "print(len(weird_list))\n",
    "print(weird_list[0])\n",
    "print(weird_list[0:2])\n",
    "print(weird_list[-1])\n",
    "print(weird_list[-2:-1])\n",
    "\n",
    "weird_list.append('hello')\n",
    "print(weird_list)\n",
    "\n",
    "weird_list.insert(1,'salam')\n",
    "print(weird_list)\n",
    "\n",
    "weird_list.extend([4, 5]) # or simply weird_list + [4, 5]\n",
    "print(weird_list)\n",
    "\n",
    "\n",
    "weird_list.remove('Ali')\n",
    "print(weird_list)\n",
    "\n",
    "weird_list.pop(2)\n",
    "print(weird_list)\n",
    "\n",
    "weird_list.pop()\n",
    "print(weird_list)\n",
    "\n",
    "weird_list.clear()\n",
    "print('weird_list: ', weird_list)"
   ]
  },
  {
   "cell_type": "code",
   "execution_count": 12,
   "metadata": {},
   "outputs": [
    {
     "data": {
      "text/plain": [
       "[4, 8, 12]"
      ]
     },
     "execution_count": 12,
     "metadata": {},
     "output_type": "execute_result"
    }
   ],
   "source": [
    "a = [1, 2, 3, 4, 5, 6]\n",
    "b = [2 * i for i in a if i % 2 == 0]\n",
    "b"
   ]
  },
  {
   "cell_type": "code",
   "execution_count": 13,
   "metadata": {},
   "outputs": [
    {
     "name": "stdout",
     "output_type": "stream",
     "text": [
      "[6, 5, 4, 3, 2, 1]\n",
      "[1, 2, 3, 4, 5, 6]\n"
     ]
    }
   ],
   "source": [
    "a = [1, 2, 3, 4, 5, 6]\n",
    "a.sort(reverse=True)\n",
    "print(a)\n",
    "\n",
    "a.reverse()\n",
    "print(a)"
   ]
  },
  {
   "cell_type": "code",
   "execution_count": 14,
   "metadata": {},
   "outputs": [
    {
     "name": "stdout",
     "output_type": "stream",
     "text": [
      "[50, 65, 23, 82, 100]\n"
     ]
    }
   ],
   "source": [
    "# Sort the list based on how close the number is to 50\n",
    "def myfunc(n):\n",
    "    return abs(n - 50)\n",
    "\n",
    "thislist = [100, 50, 65, 82, 23]\n",
    "thislist.sort(key = myfunc)\n",
    "print(thislist)"
   ]
  },
  {
   "cell_type": "code",
   "execution_count": 15,
   "metadata": {},
   "outputs": [
    {
     "name": "stdout",
     "output_type": "stream",
     "text": [
      "b:  [1, 2, 3, 4, 5, 6]\n",
      "c:  [1, 2, 3, 4, 5, 6]\n"
     ]
    }
   ],
   "source": [
    "# copy list\n",
    "a = [1, 2, 3, 4, 5, 6]\n",
    "b = a.copy()\n",
    "print('b: ', b)\n",
    "\n",
    "c = list(a)\n",
    "print('c: ', c)"
   ]
  },
  {
   "cell_type": "code",
   "execution_count": 16,
   "metadata": {},
   "outputs": [
    {
     "name": "stdout",
     "output_type": "stream",
     "text": [
      "4\n",
      "5\n"
     ]
    }
   ],
   "source": [
    "a = [1, 2, 3, 4, 5, 6, 6, 6 , 6]\n",
    "print(a.count(6))\n",
    "print(a.index(6))"
   ]
  },
  {
   "cell_type": "code",
   "execution_count": 17,
   "metadata": {},
   "outputs": [
    {
     "name": "stdout",
     "output_type": "stream",
     "text": [
      "<class 'tuple'>\n"
     ]
    }
   ],
   "source": [
    "# tuple: collection, ordered, unchangeable, accept duplicates\n",
    "tup = (1, 2, 3)\n",
    "print(type(tup))"
   ]
  },
  {
   "cell_type": "code",
   "execution_count": 18,
   "metadata": {},
   "outputs": [
    {
     "name": "stdout",
     "output_type": "stream",
     "text": [
      "{'name': 'Ali', 'id': 1234, 'hobbies': ['jugging', 'cycling']}\n"
     ]
    }
   ],
   "source": [
    "# dict: collection, unordered, changeable, indexed, No duplicate members\n",
    "d_1 = {'name': 'Ali',\n",
    "       'id': 1234,\n",
    "       'hobbies':['jugging', 'cycling']}\n",
    "print(d_1)"
   ]
  },
  {
   "cell_type": "code",
   "execution_count": 19,
   "metadata": {},
   "outputs": [
    {
     "name": "stdout",
     "output_type": "stream",
     "text": [
      "s1 : {1, 2, 3}, s1: {1, 2, 3}\n"
     ]
    }
   ],
   "source": [
    "# set: collection, unordered and unindexed,  No duplicate members\n",
    "l = [1, 2, 3, 3]\n",
    "s1 = set(l)\n",
    "\n",
    "t = (1, 2, 3, 3)\n",
    "s2 = set(t)\n",
    "\n",
    "print(f's1 : {s1}, s1: {s2}')"
   ]
  },
  {
   "cell_type": "code",
   "execution_count": 20,
   "metadata": {},
   "outputs": [
    {
     "name": "stdout",
     "output_type": "stream",
     "text": [
      "False\n"
     ]
    }
   ],
   "source": [
    "# bool\n",
    "isTerminal = False\n",
    "print(isTerminal)"
   ]
  },
  {
   "cell_type": "markdown",
   "metadata": {},
   "source": [
    "### 2. Arithmetic operators"
   ]
  },
  {
   "cell_type": "code",
   "execution_count": 21,
   "metadata": {},
   "outputs": [
    {
     "name": "stdout",
     "output_type": "stream",
     "text": [
      "2 * 2 = 4\n",
      "4/3 = 1.3333333333333333\n",
      "4 // 3 = 1\n",
      "4 % 3 = 1\n",
      "2 ** 3 = 8\n"
     ]
    }
   ],
   "source": [
    "# *, /, +, - , //, %, **\n",
    "print('2 * 2 =', 2 * 2)\n",
    "print('4/3 =', 4 / 3)\n",
    "print('4 // 3 =', 4 // 3)\n",
    "print('4 % 3 =', 4 % 3)\n",
    "print('2 ** 3 =', 2 ** 3)"
   ]
  },
  {
   "cell_type": "markdown",
   "metadata": {},
   "source": [
    "### 3. Assignment operators"
   ]
  },
  {
   "cell_type": "code",
   "execution_count": 22,
   "metadata": {},
   "outputs": [
    {
     "name": "stdout",
     "output_type": "stream",
     "text": [
      "2\n"
     ]
    }
   ],
   "source": [
    "# {arthmetic ops} + '='\n",
    "a = 1\n",
    "a += 1 # a = a + 1\n",
    "print(a)"
   ]
  },
  {
   "cell_type": "markdown",
   "metadata": {},
   "source": [
    "### 4. Comparison operators"
   ]
  },
  {
   "cell_type": "code",
   "execution_count": 23,
   "metadata": {},
   "outputs": [
    {
     "name": "stdout",
     "output_type": "stream",
     "text": [
      "True\n",
      "True\n",
      "False\n"
     ]
    }
   ],
   "source": [
    "# ==, !=, >, <, <=, >=\n",
    "print(2 == 2)\n",
    "print(2 != '2')\n",
    "print(3 >= 4)"
   ]
  },
  {
   "cell_type": "markdown",
   "metadata": {},
   "source": [
    "### 5. Logical operators"
   ]
  },
  {
   "cell_type": "code",
   "execution_count": 24,
   "metadata": {},
   "outputs": [
    {
     "name": "stdout",
     "output_type": "stream",
     "text": [
      "True\n",
      "False\n"
     ]
    }
   ],
   "source": [
    "# and, or, not\n",
    "print (2 > 1 and 3 > 2)\n",
    "print (not (2 > 1 and 3 > 2))"
   ]
  },
  {
   "cell_type": "markdown",
   "metadata": {},
   "source": [
    "### 6. Membership operators"
   ]
  },
  {
   "cell_type": "code",
   "execution_count": 25,
   "metadata": {},
   "outputs": [
    {
     "name": "stdout",
     "output_type": "stream",
     "text": [
      "we have 2!\n",
      "we do not have 5 :(\n"
     ]
    }
   ],
   "source": [
    "# in, not in\n",
    "grades = [2, 3, 4]\n",
    "if 2 in grades:\n",
    "    print('we have 2!')\n",
    "    \n",
    "if 5 not in grades:\n",
    "    print('we do not have 5 :(')"
   ]
  },
  {
   "cell_type": "markdown",
   "metadata": {},
   "source": [
    "### 7.Bitwise operators"
   ]
  },
  {
   "cell_type": "code",
   "execution_count": 26,
   "metadata": {},
   "outputs": [
    {
     "name": "stdout",
     "output_type": "stream",
     "text": [
      "1\n"
     ]
    }
   ],
   "source": [
    "'''\n",
    "& : AND\n",
    "| : OR\n",
    "^ : XOR\n",
    "~ : NOT\n",
    "'''\n",
    "\n",
    "# 5 : 0101 \n",
    "# 3 : 0011\n",
    "\n",
    "print(5 & 3)"
   ]
  }
 ],
 "metadata": {
  "kernelspec": {
   "display_name": "Python 3",
   "language": "python",
   "name": "python3"
  },
  "language_info": {
   "codemirror_mode": {
    "name": "ipython",
    "version": 3
   },
   "file_extension": ".py",
   "mimetype": "text/x-python",
   "name": "python",
   "nbconvert_exporter": "python",
   "pygments_lexer": "ipython3",
   "version": "3.8.6"
  }
 },
 "nbformat": 4,
 "nbformat_minor": 4
}
